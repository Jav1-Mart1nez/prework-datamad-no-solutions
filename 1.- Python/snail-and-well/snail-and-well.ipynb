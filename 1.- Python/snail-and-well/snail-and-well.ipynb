{
 "cells": [
  {
   "cell_type": "markdown",
   "metadata": {},
   "source": [
    "# Snail and well\n",
    "\n",
    "A snail falls at the bottom of a 125 cm well. Each day the snail rises 30 cm. But at night, while sleeping, slides 20 cm because the walls are wet. How many days does it take to escape from the well?\n",
    "\n",
    "TIP: http://puzzles.nigelcoldwell.co.uk/sixtytwo.htm"
   ]
  },
  {
   "cell_type": "markdown",
   "metadata": {},
   "source": [
    "## Solución"
   ]
  },
  {
   "cell_type": "code",
   "execution_count": 25,
   "metadata": {},
   "outputs": [
    {
     "name": "stdout",
     "output_type": "stream",
     "text": [
      "Snail falls inside the well\n",
      "snail is inside the well\n",
      "snail is inside the well\n",
      "snail is inside the well\n",
      "snail is inside the well\n",
      "snail is inside the well\n",
      "snail is inside the well\n",
      "snail is inside the well\n",
      "snail is inside the well\n",
      "snail is inside the well\n",
      "snail is inside the well\n",
      "snail is inside the well\n",
      "snail is out the well\n",
      "Days = 11\n"
     ]
    }
   ],
   "source": [
    "well_height=125\n",
    "daily_advance=30\n",
    "night_retreat=20\n",
    "\n",
    "print(\"Snail falls inside the well\")\n",
    "\n",
    "days=[]\n",
    "accumulated_distance=0    \n",
    "while accumulated_distance<=well_height:\n",
    "    accumulated_distance+=daily_advance\n",
    "    if accumulated_distance<=well_height:\n",
    "        accumulated_distance-=night_retreat\n",
    "    print(\"snail is inside the well\")\n",
    "    days.append(accumulated_distance)\n",
    "    \n",
    "print(\"snail is out the well\")\n",
    "\n",
    "print(\"Days =\", len(days))"
   ]
  },
  {
   "cell_type": "markdown",
   "metadata": {},
   "source": [
    "**Expected output**: \n",
    "```\n",
    "Days = 11\n",
    "```"
   ]
  },
  {
   "cell_type": "markdown",
   "metadata": {},
   "source": [
    "## Goals\n",
    "\n",
    "1. Treatment of variables\n",
    "2. Use of loop **while**\n",
    "3. Use of conditional **if-else**\n",
    "4. Print in console"
   ]
  },
  {
   "cell_type": "markdown",
   "metadata": {},
   "source": [
    "## Bonus\n",
    "The distance traveled by the snail is now defined by a list.\n",
    "```\n",
    "advance_cm = [30, 21, 33, 77, 44, 45, 23, 45, 12, 34, 55]\n",
    "```\n",
    "How long does it take to raise the well?\n",
    "\n",
    "What is its maximum displacement in one day? And its minimum?\n",
    "\n",
    "What is its average speed during the day?\n",
    "\n",
    "What is the standard deviation of its displacement during the day?"
   ]
  },
  {
   "cell_type": "code",
   "execution_count": 3,
   "metadata": {},
   "outputs": [
    {
     "name": "stdout",
     "output_type": "stream",
     "text": [
      "[10, 11, 24, 81, 105, 130]\n",
      "Days = 6\n"
     ]
    }
   ],
   "source": [
    "# Assign problem data to variables with representative names\n",
    "# well height, daily advance, night retreat, accumulated distance\n",
    "\n",
    "well_height=125\n",
    "daily_advance=[30, 21, 33, 77, 44, 45, 23, 45, 12, 34, 55]\n",
    "night_retreat=20\n",
    "\n",
    "# Assign 0 to the variable that represents the solution\n",
    "\n",
    "total=0\n",
    "\n",
    "# Write the code that solves the problem\n",
    "days = []\n",
    "for i in daily_advance:\n",
    "    if total <= well_height:\n",
    "        total += i-night_retreat \n",
    "        days.append(total)\n",
    "    else:\n",
    "        break\n",
    "        \n",
    "# Print the result with print('Days =', days)\n",
    "\n",
    "print (days)\n",
    "print(\"Days =\", len(days))"
   ]
  },
  {
   "cell_type": "markdown",
   "metadata": {},
   "source": [
    "**Expected output**: \n",
    "```\n",
    "Days = 6\n",
    "```"
   ]
  },
  {
   "cell_type": "code",
   "execution_count": 4,
   "metadata": {},
   "outputs": [
    {
     "name": "stdout",
     "output_type": "stream",
     "text": [
      "maximum displacement:  77\n",
      "minimum displacement:  12\n"
     ]
    }
   ],
   "source": [
    "# What is its maximum displacement in a day? And its minimum?\n",
    "print(\"maximum displacement: \",max(daily_advance))\n",
    "print(\"minimum displacement: \",min(daily_advance))"
   ]
  },
  {
   "cell_type": "markdown",
   "metadata": {},
   "source": [
    "**Expected output**: \n",
    "```\n",
    "77 12\n",
    "```"
   ]
  },
  {
   "cell_type": "code",
   "execution_count": 5,
   "metadata": {},
   "outputs": [
    {
     "data": {
      "text/plain": [
       "38.09090909090909"
      ]
     },
     "execution_count": 5,
     "metadata": {},
     "output_type": "execute_result"
    }
   ],
   "source": [
    "# What is its average progress?\n",
    "sum(daily_advance)/len(daily_advance)"
   ]
  },
  {
   "cell_type": "markdown",
   "metadata": {},
   "source": [
    "**Expected output**: \n",
    "```\n",
    "38.09090909090909\n",
    "```"
   ]
  },
  {
   "cell_type": "code",
   "execution_count": 6,
   "metadata": {},
   "outputs": [
    {
     "name": "stdout",
     "output_type": "stream",
     "text": [
      "17.159437082600803\n"
     ]
    }
   ],
   "source": [
    "# What is the standard deviation of your displacement during the day?\n",
    "daily_advance = [30, 21, 33, 77, 44, 45, 23, 45, 12, 34, 55]\n",
    "mean = 38.09090909090909\n",
    "a = [(x-mean)**2 for x in daily_advance]\n",
    "b = (sum(list(a))/len(a))**0.5\n",
    "print(b)\n"
   ]
  },
  {
   "cell_type": "markdown",
   "metadata": {},
   "source": [
    "**Expected output**: \n",
    "```\n",
    "17.159437082600803\n",
    "```"
   ]
  },
  {
   "cell_type": "code",
   "execution_count": null,
   "metadata": {},
   "outputs": [],
   "source": []
  },
  {
   "cell_type": "code",
   "execution_count": null,
   "metadata": {},
   "outputs": [],
   "source": []
  }
 ],
 "metadata": {
  "kernelspec": {
   "display_name": "Python 3",
   "language": "python",
   "name": "python3"
  },
  "language_info": {
   "codemirror_mode": {
    "name": "ipython",
    "version": 3
   },
   "file_extension": ".py",
   "mimetype": "text/x-python",
   "name": "python",
   "nbconvert_exporter": "python",
   "pygments_lexer": "ipython3",
   "version": "3.7.6"
  }
 },
 "nbformat": 4,
 "nbformat_minor": 2
}
