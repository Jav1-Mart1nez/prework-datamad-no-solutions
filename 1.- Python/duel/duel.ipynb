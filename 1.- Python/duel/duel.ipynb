{
 "cells": [
  {
   "cell_type": "markdown",
   "metadata": {},
   "source": [
    "# Duel of sorcerers\n",
    "## Intro\n",
    "You are witnessing an epic battle between two powerful sorcerers: Gandalf and Saruman. Each sorcerer has 10 spells of variable power in their mind and they are going to throw them one after the other. The winner of the duel will be the one who wins more of those clashes between spells. Spells are represented as a list of 10 integers whose value equals the power of the spell.\n",
    "```\n",
    "gandalf = [10, 11, 13, 30, 22, 11, 10, 33, 22, 22]\n",
    "saruman = [23, 66, 12, 43, 12, 10, 44, 23, 12, 17]\n",
    "```\n",
    "For example:\n",
    "1. The first clash is won by Saruman: 10 against 23, wins 23\n",
    "2. The second clash wins Saruman: 11 against 66, wins 66\n",
    "3. etc.\n",
    "\n",
    "\n",
    "You will create two variables, one for each sorcerer, where the sum of clashes won will be stored. Depending on which variable is greater at the end of the duel, you will show one of the following three results on the screen:\n",
    "* Gandalf wins\n",
    "* Saruman wins\n",
    "* Tie\n",
    "\n",
    "<img src=\"images/content_lightning_bolt_big.jpg\" width=\"400\">\n",
    "\n",
    "## LINKS: \n",
    "* zip: https://www.programiz.com/python-programming/methods/built-in/zip"
   ]
  },
  {
   "cell_type": "markdown",
   "metadata": {},
   "source": [
    "## Solution"
   ]
  },
  {
   "cell_type": "code",
   "execution_count": 1,
   "metadata": {},
   "outputs": [],
   "source": [
    "Gandalf = [10, 11, 13, 30, 22, 11, 10, 33, 22, 22]\n",
    "Saruman = [23, 66, 12, 43, 12, 10, 44, 23, 12, 17]"
   ]
  },
  {
   "cell_type": "code",
   "execution_count": 2,
   "metadata": {},
   "outputs": [
    {
     "name": "stdout",
     "output_type": "stream",
     "text": [
      "[False, False, True, False, True, True, False, True, True, True]\n"
     ]
    }
   ],
   "source": [
    "Gandalf_vs_Saruman=[i>j for i,j in zip (Gandalf,Saruman)]\n",
    "print(Gandalf_vs_Saruman)"
   ]
  },
  {
   "cell_type": "code",
   "execution_count": 3,
   "metadata": {},
   "outputs": [
    {
     "name": "stdout",
     "output_type": "stream",
     "text": [
      "Gandalf wins = 6\n",
      "Saruman wins = 4\n"
     ]
    }
   ],
   "source": [
    "Gandalf_wins=Gandalf_vs_Saruman.count(True)\n",
    "print(\"Gandalf wins =\", Gandalf_wins)\n",
    "Saruman_wins=Gandalf_vs_Saruman.count(False)\n",
    "print(\"Saruman wins =\", Saruman_wins)\n",
    "\n",
    "\n"
   ]
  },
  {
   "cell_type": "markdown",
   "metadata": {},
   "source": [
    "**Expected output**:\n",
    "```\n",
    "6\n",
    "4\n",
    "```"
   ]
  },
  {
   "cell_type": "code",
   "execution_count": 4,
   "metadata": {},
   "outputs": [
    {
     "name": "stdout",
     "output_type": "stream",
     "text": [
      "Gandalf wins\n"
     ]
    }
   ],
   "source": [
    "# We check who has won, do not forget the possibility of a draw.\n",
    "# Print the result based on the winner.\n",
    "Gandalf_wins = []\n",
    "Gandalf_wins.append(6)\n",
    "Saruman_wins = []\n",
    "Saruman_wins.append(4)\n",
    "\n",
    "if Gandalf_wins>Saruman_wins:\n",
    "    print(\"Gandalf wins\")\n",
    "elif Gandalf_wins<Saruman_wins:\n",
    "    print(\"Saruman wins\")\n",
    "else:\n",
    "    print(\"Tie\")"
   ]
  },
  {
   "cell_type": "markdown",
   "metadata": {},
   "source": [
    "**Expected output**:\n",
    "```\n",
    "Gandalf wins\n",
    "```"
   ]
  },
  {
   "cell_type": "markdown",
   "metadata": {},
   "source": [
    "## Goals\n",
    "\n",
    "1. Treatment of lists\n",
    "2. Use of **for loop**\n",
    "3. Use of conditional **if-elif-else**\n",
    "4. Use of the functions **range(), len()**\n",
    "5. print()\n",
    "6. zip()"
   ]
  },
  {
   "cell_type": "markdown",
   "metadata": {},
   "source": [
    "## Bonus\n",
    "\n",
    "1. Spells now have a name and there is a dictionary that relates that name to a power.\n",
    "2. A sorcerer wins if he succeeds in winning 3 spell clashes in a row.\n",
    "3. Average of each of the spell lists.\n",
    "4. Standard deviation of each of the spell lists.\n",
    "\n",
    "```\n",
    "POWER = {\n",
    "    'Fireball': 50, \n",
    "    'Lightning bolt': 40, \n",
    "    'Magic arrow': 10, \n",
    "    'Black Tentacles': 25, \n",
    "    'Contagion': 45\n",
    "}\n",
    "\n",
    "gandalf = ['Fireball', 'Lightning bolt', 'Lightning bolt', 'Magic arrow', 'Fireball', \n",
    "           'Magic arrow', 'Lightning bolt', 'Fireball', 'Fireball', 'Fireball']\n",
    "saruman = ['Contagion', 'Contagion', 'Black Tentacles', 'Fireball', 'Black Tentacles', \n",
    "           'Lightning bolt', 'Magic arrow', 'Contagion', 'Magic arrow', 'Magic arrow']\n",
    "```\n",
    "\n",
    "Good luck!"
   ]
  },
  {
   "cell_type": "code",
   "execution_count": 5,
   "metadata": {},
   "outputs": [],
   "source": [
    "POWER = {\n",
    "    'Fireball': 50, \n",
    "    'Lightning bolt': 40, \n",
    "    'Magic arrow': 10, \n",
    "    'Black Tentacles': 25, \n",
    "    'Contagion': 45\n",
    "}\n",
    "\n",
    "gandalf = ['Fireball', 'Lightning bolt', 'Lightning bolt', 'Magic arrow', 'Fireball', \n",
    "           'Magic arrow', 'Lightning bolt', 'Fireball', 'Magic arrow', 'Fireball']\n",
    "saruman = ['Contagion', 'Contagion', 'Black Tentacles', 'Fireball', 'Black Tentacles', \n",
    "           'Lightning bolt', 'Magic arrow', 'Contagion', 'Magic arrow', 'Magic arrow']"
   ]
  },
  {
   "cell_type": "code",
   "execution_count": 6,
   "metadata": {},
   "outputs": [
    {
     "name": "stdout",
     "output_type": "stream",
     "text": [
      "[50, 40, 40, 10, 50, 10, 40, 50, 10, 50]\n",
      "[45, 45, 25, 50, 25, 40, 10, 45, 10, 10]\n"
     ]
    }
   ],
   "source": [
    "gandalf = ['Fireball', 'Lightning bolt', 'Lightning bolt', 'Magic arrow', 'Fireball', \n",
    "           'Magic arrow', 'Lightning bolt', 'Fireball', 'Magic arrow', 'Fireball']\n",
    "\n",
    "saruman = ['Contagion', 'Contagion', 'Black Tentacles', 'Fireball', 'Black Tentacles', \n",
    "           'Lightning bolt', 'Magic arrow', 'Contagion', 'Magic arrow', 'Magic arrow']\n",
    "\n",
    "POWER = {\n",
    " 'Fireball': 50, \n",
    "    'Lightning bolt': 40, \n",
    "    'Magic arrow': 10, \n",
    "    'Black Tentacles': 25, \n",
    "    'Contagion': 45\n",
    "}\n",
    "\n",
    "print([POWER.get(i, i) for i in gandalf])\n",
    "print([POWER.get(i, i) for i in saruman])\n",
    "\n"
   ]
  },
  {
   "cell_type": "markdown",
   "metadata": {},
   "source": [
    "**Expected output**:\n",
    "```\n",
    "([50, 40, 40, 10, 50, 10, 40, 50, 10, 50],\n",
    " [45, 45, 25, 50, 25, 40, 10, 45, 10, 10])\n",
    " ```"
   ]
  },
  {
   "cell_type": "code",
   "execution_count": 73,
   "metadata": {},
   "outputs": [
    {
     "name": "stdout",
     "output_type": "stream",
     "text": [
      "[5, -5, 15, -40, 25, -30, 30, 5, 0, 40]\n",
      "Gandalf_wins\n",
      "Sum of clashes: 45\n"
     ]
    }
   ],
   "source": [
    "# 2. A sorcerer wins if he succeeds in winning 3 spell clashes in a row.\n",
    "\n",
    "# Execution of spell clashes\n",
    "\n",
    "# check clashes\n",
    "\n",
    "# check for 3 wins in a row\n",
    "\n",
    "# check the winner\n",
    "\n",
    "# count sum of clashes\n",
    "\n",
    "G=[50, 40, 40, 10, 50, 10, 40, 50, 10, 50]\n",
    "S=[45, 45, 25, 50, 25, 40, 10, 45, 10, 10]\n",
    "\n",
    "GvsS=[i-j for i,j in zip(G,S)]\n",
    "print(GvsS)\n",
    "\n",
    "for i in range(len(GvsS)):\n",
    "    if GvsS[i]==40:\n",
    "        break\n",
    "    if GvsS[i]>0 and GvsS[i-1]>0:\n",
    "        pass\n",
    "    if GvsS[i-2]>0 and GvsS[i-3]>0:\n",
    "        print(\"Gandalf_wins\")\n",
    "    if GvsS[i]<0 and GvsS[i-1]<0:\n",
    "        pass\n",
    "    if GvsS[i-2]<0 and GvsS[i-3]<0:\n",
    "        print(\"Saruman_wins\")\n",
    "        \n",
    "print(\"Sum of clashes:\",sum(list(GvsS)))"
   ]
  },
  {
   "cell_type": "markdown",
   "metadata": {},
   "source": [
    "**Expected output**:\n",
    "```\n",
    "Gandalf wins\n",
    "```"
   ]
  },
  {
   "cell_type": "code",
   "execution_count": 8,
   "metadata": {},
   "outputs": [
    {
     "name": "stdout",
     "output_type": "stream",
     "text": [
      "El poder medio de los hechizos de gandalf es  35.0\n",
      "El poder medio de los hechizos de saruman es  30.5\n"
     ]
    }
   ],
   "source": [
    "# 3. Average of each of the spell lists.\n",
    "gandalf = [50, 40, 40, 10, 50, 10, 40, 50, 10, 50]\n",
    "saruman = [45, 45, 25, 50, 25, 40, 10, 45, 10, 10]\n",
    "\n",
    "print(\"El poder medio de los hechizos de gandalf es \", sum(gandalf)/len(gandalf))\n",
    "print(\"El poder medio de los hechizos de saruman es \", sum(saruman)/len(saruman))"
   ]
  },
  {
   "cell_type": "markdown",
   "metadata": {},
   "source": [
    "**Expected output**:\n",
    "```\n",
    "35.0\n",
    "30.5\n",
    "```"
   ]
  },
  {
   "cell_type": "code",
   "execution_count": 9,
   "metadata": {},
   "outputs": [
    {
     "name": "stdout",
     "output_type": "stream",
     "text": [
      "Gandalf_Sd = 16.881943016134134\n",
      "Saruman_Sd = 15.56438241627338\n"
     ]
    }
   ],
   "source": [
    "# 4. Standard deviation of each of the spell lists.\n",
    "gandalf = [50, 40, 40, 10, 50, 10, 40, 50, 10, 50]\n",
    "G_mean = 35\n",
    "a = [(x-G_mean)**2 for x in gandalf]\n",
    "Gandalf_Sd=(sum(list(a))/len(gandalf))**0.5\n",
    "print (\"Gandalf_Sd =\", Gandalf_Sd)\n",
    "\n",
    "saruman = [45, 45, 25, 50, 25, 40, 10, 45, 10, 10]\n",
    "S_mean = 30.5\n",
    "b = [(x-S_mean)**2 for x in saruman]\n",
    "Saruman_Sd=(sum(list(b))/len(saruman))**0.5\n",
    "print (\"Saruman_Sd =\", Saruman_Sd)\n"
   ]
  },
  {
   "cell_type": "markdown",
   "metadata": {},
   "source": [
    "**Expected output**:\n",
    "```\n",
    "16.881943016134134\n",
    "15.56438241627338\n",
    "```"
   ]
  },
  {
   "cell_type": "code",
   "execution_count": null,
   "metadata": {},
   "outputs": [],
   "source": []
  },
  {
   "cell_type": "code",
   "execution_count": null,
   "metadata": {},
   "outputs": [],
   "source": []
  },
  {
   "cell_type": "code",
   "execution_count": null,
   "metadata": {},
   "outputs": [],
   "source": []
  },
  {
   "cell_type": "code",
   "execution_count": null,
   "metadata": {},
   "outputs": [],
   "source": []
  }
 ],
 "metadata": {
  "kernelspec": {
   "display_name": "Python 3",
   "language": "python",
   "name": "python3"
  },
  "language_info": {
   "codemirror_mode": {
    "name": "ipython",
    "version": 3
   },
   "file_extension": ".py",
   "mimetype": "text/x-python",
   "name": "python",
   "nbconvert_exporter": "python",
   "pygments_lexer": "ipython3",
   "version": "3.7.6"
  }
 },
 "nbformat": 4,
 "nbformat_minor": 2
}
